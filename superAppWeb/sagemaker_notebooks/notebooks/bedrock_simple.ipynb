{
 "cells": [
  {
   "cell_type": "markdown",
   "metadata": {},
   "source": [
    "# Simple Bedrock Claude 3 Test\n",
    "\n",
    "Basic notebook to test AWS Bedrock Claude 3 integration."
   ]
  },
  {
   "cell_type": "code",
   "execution_count": null,
   "metadata": {},
   "outputs": [],
   "source": [
    "import boto3\n",
    "import json\n",
    "\n",
    "print(\"Initializing Bedrock client...\")"
   ]
  },
  {
   "cell_type": "code",
   "execution_count": null,
   "metadata": {},
   "outputs": [],
   "source": [
    "# Configuration\n",
    "region = 'us-east-1'\n",
    "model_id = 'anthropic.claude-3-sonnet-20240229-v1:0'\n",
    "\n",
    "# Create Bedrock Runtime client\n",
    "bedrock = boto3.client('bedrock-runtime', region_name=region)\n",
    "\n",
    "print(f\"✓ Bedrock client created\")\n",
    "print(f\"  Region: {region}\")\n",
    "print(f\"  Model: {model_id}\")"
   ]
  },
  {
   "cell_type": "code",
   "execution_count": null,
   "metadata": {},
   "outputs": [],
   "source": [
    "# Prepare request\n",
    "prompt = \"What is AWS Bedrock in one sentence?\"\n",
    "\n",
    "payload = {\n",
    "    \"anthropic_version\": \"bedrock-2023-05-31\",\n",
    "    \"max_tokens\": 500,\n",
    "    \"messages\": [\n",
    "        {\n",
    "            \"role\": \"user\",\n",
    "            \"content\": [\n",
    "                {\n",
    "                    \"type\": \"text\",\n",
    "                    \"text\": prompt\n",
    "                }\n",
    "            ]\n",
    "        }\n",
    "    ],\n",
    "    \"temperature\": 0.7,\n",
    "    \"top_p\": 0.9\n",
    "}\n",
    "\n",
    "print(f\"Prompt: {prompt}\")\n",
    "print(\"\\nSending request to Claude 3...\")"
   ]
  },
  {
   "cell_type": "code",
   "execution_count": null,
   "metadata": {},
   "outputs": [],
   "source": [
    "# Call Bedrock\n",
    "response = bedrock.invoke_model(\n",
    "    modelId=model_id,\n",
    "    contentType=\"application/json\",\n",
    "    accept=\"application/json\",\n",
    "    body=json.dumps(payload)\n",
    ")\n",
    "\n",
    "# Parse response\n",
    "response_body = json.loads(response['body'].read().decode('utf-8'))\n",
    "answer = response_body['content'][0]['text']\n",
    "\n",
    "print(\"\\n\" + \"=\"*60)\n",
    "print(\"CLAUDE 3 RESPONSE:\")\n",
    "print(\"=\"*60)\n",
    "print(answer)\n",
    "print(\"=\"*60)"
   ]
  },
  {
   "cell_type": "code",
   "execution_count": null,
   "metadata": {},
   "outputs": [],
   "source": [
    "# Try another prompt\n",
    "prompt2 = \"Explain machine learning in simple terms.\"\n",
    "\n",
    "payload['messages'][0]['content'][0]['text'] = prompt2\n",
    "\n",
    "response2 = bedrock.invoke_model(\n",
    "    modelId=model_id,\n",
    "    contentType=\"application/json\",\n",
    "    accept=\"application/json\",\n",
    "    body=json.dumps(payload)\n",
    ")\n",
    "\n",
    "response_body2 = json.loads(response2['body'].read().decode('utf-8'))\n",
    "answer2 = response_body2['content'][0]['text']\n",
    "\n",
    "print(f\"Prompt: {prompt2}\\n\")\n",
    "print(\"Response:\")\n",
    "print(answer2)"
   ]
  },
  {
   "cell_type": "markdown",
   "metadata": {},
   "source": [
    "## Test Complete\n",
    "\n",
    "If you see responses above, Bedrock integration is working correctly!"
   ]
  }
 ],
 "metadata": {
  "kernelspec": {
   "display_name": "Python 3",
   "language": "python",
   "name": "python3"
  },
  "language_info": {
   "name": "python",
   "version": "3.10.0"
  }
 },
 "nbformat": 4,
 "nbformat_minor": 4
}
