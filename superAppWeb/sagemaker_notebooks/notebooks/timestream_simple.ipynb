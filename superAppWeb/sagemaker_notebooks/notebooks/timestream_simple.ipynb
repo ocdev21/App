{
 "cells": [
  {
   "cell_type": "markdown",
   "metadata": {},
   "source": [
    "# Simple Timestream Test\n",
    "\n",
    "Basic notebook to write and read data from AWS Timestream."
   ]
  },
  {
   "cell_type": "code",
   "execution_count": null,
   "metadata": {},
   "outputs": [],
   "source": [
    "import boto3\n",
    "import time\n",
    "from datetime import datetime\n",
    "\n",
    "print(\"Initializing Timestream clients...\")"
   ]
  },
  {
   "cell_type": "code",
   "execution_count": null,
   "metadata": {},
   "outputs": [],
   "source": [
    "# Configuration\n",
    "region = 'us-east-1'\n",
    "database_name = 'SuperAppDB'\n",
    "table_name = 'UEReports'\n",
    "\n",
    "# Create Timestream clients\n",
    "ts_write = boto3.client('timestream-write', region_name=region)\n",
    "ts_query = boto3.client('timestream-query', region_name=region)\n",
    "\n",
    "print(f\"✓ Timestream clients created\")\n",
    "print(f\"  Region: {region}\")\n",
    "print(f\"  Database: {database_name}\")\n",
    "print(f\"  Table: {table_name}\")"
   ]
  },
  {
   "cell_type": "markdown",
   "metadata": {},
   "source": [
    "## Step 1: Create Database and Table (if needed)"
   ]
  },
  {
   "cell_type": "code",
   "execution_count": null,
   "metadata": {},
   "outputs": [],
   "source": [
    "# Create database\n",
    "try:\n",
    "    ts_write.create_database(DatabaseName=database_name)\n",
    "    print(f\"✓ Database '{database_name}' created\")\n",
    "except ts_write.exceptions.ConflictException:\n",
    "    print(f\"Database '{database_name}' already exists\")\n",
    "except Exception as e:\n",
    "    print(f\"Error creating database: {e}\")"
   ]
  },
  {
   "cell_type": "code",
   "execution_count": null,
   "metadata": {},
   "outputs": [],
   "source": [
    "# Create table\n",
    "try:\n",
    "    ts_write.create_table(\n",
    "        DatabaseName=database_name,\n",
    "        TableName=table_name,\n",
    "        RetentionProperties={\n",
    "            'MemoryStoreRetentionPeriodInHours': 24,\n",
    "            'MagneticStoreRetentionPeriodInDays': 7\n",
    "        }\n",
    "    )\n",
    "    print(f\"✓ Table '{table_name}' created\")\n",
    "    time.sleep(10)  # Wait for table to be active\n",
    "except ts_write.exceptions.ConflictException:\n",
    "    print(f\"Table '{table_name}' already exists\")\n",
    "except Exception as e:\n",
    "    print(f\"Error creating table: {e}\")"
   ]
  },
  {
   "cell_type": "markdown",
   "metadata": {},
   "source": [
    "## Step 2: Write Sample Records"
   ]
  },
  {
   "cell_type": "code",
   "execution_count": null,
   "metadata": {},
   "outputs": [],
   "source": [
    "# Prepare sample records\n",
    "current_time = str(int(time.time() * 1000))  # Current time in milliseconds\n",
    "\n",
    "records = [\n",
    "    {\n",
    "        'Time': current_time,\n",
    "        'Dimensions': [\n",
    "            {'Name': 'device_id', 'Value': 'device-001'},\n",
    "            {'Name': 'location', 'Value': 'datacenter-1'},\n",
    "            {'Name': 'region', 'Value': 'us-east-1'}\n",
    "        ],\n",
    "        'MeasureName': 'cpu_usage',\n",
    "        'MeasureValue': '75.5',\n",
    "        'MeasureValueType': 'DOUBLE'\n",
    "    },\n",
    "    {\n",
    "        'Time': current_time,\n",
    "        'Dimensions': [\n",
    "            {'Name': 'device_id', 'Value': 'device-002'},\n",
    "            {'Name': 'location', 'Value': 'datacenter-1'},\n",
    "            {'Name': 'region', 'Value': 'us-east-1'}\n",
    "        ],\n",
    "        'MeasureName': 'cpu_usage',\n",
    "        'MeasureValue': '82.3',\n",
    "        'MeasureValueType': 'DOUBLE'\n",
    "    },\n",
    "    {\n",
    "        'Time': current_time,\n",
    "        'Dimensions': [\n",
    "            {'Name': 'device_id', 'Value': 'device-003'},\n",
    "            {'Name': 'location', 'Value': 'datacenter-2'},\n",
    "            {'Name': 'region', 'Value': 'us-west-2'}\n",
    "        ],\n",
    "        'MeasureName': 'memory_usage',\n",
    "        'MeasureValue': '64.8',\n",
    "        'MeasureValueType': 'DOUBLE'\n",
    "    }\n",
    "]\n",
    "\n",
    "print(f\"Prepared {len(records)} records to write\")\n",
    "print(f\"Timestamp: {datetime.fromtimestamp(int(current_time)/1000)}\")"
   ]
  },
  {
   "cell_type": "code",
   "execution_count": null,
   "metadata": {},
   "outputs": [],
   "source": [
    "# Write records to Timestream\n",
    "try:\n",
    "    result = ts_write.write_records(\n",
    "        DatabaseName=database_name,\n",
    "        TableName=table_name,\n",
    "        Records=records\n",
    "    )\n",
    "    print(\"✓ Records written successfully\")\n",
    "    print(f\"  Records processed: {result['RecordsIngested']['Total']}\")\n",
    "except Exception as e:\n",
    "    print(f\"Error writing records: {e}\")"
   ]
  },
  {
   "cell_type": "markdown",
   "metadata": {},
   "source": [
    "## Step 3: Query Records"
   ]
  },
  {
   "cell_type": "code",
   "execution_count": null,
   "metadata": {},
   "outputs": [],
   "source": [
    "# Query all recent records\n",
    "query = f\"\"\"\n",
    "SELECT * \n",
    "FROM \"{database_name}\".\"{table_name}\"\n",
    "WHERE time > ago(1h)\n",
    "ORDER BY time DESC\n",
    "LIMIT 10\n",
    "\"\"\"\n",
    "\n",
    "print(\"Executing query:\")\n",
    "print(query)\n",
    "print(\"\\n\" + \"=\"*60)"
   ]
  },
  {
   "cell_type": "code",
   "execution_count": null,
   "metadata": {},
   "outputs": [],
   "source": [
    "# Execute query\n",
    "try:\n",
    "    response = ts_query.query(QueryString=query)\n",
    "    \n",
    "    # Display results\n",
    "    print(\"QUERY RESULTS:\")\n",
    "    print(\"=\"*60)\n",
    "    \n",
    "    if len(response['Rows']) == 0:\n",
    "        print(\"No records found\")\n",
    "    else:\n",
    "        # Print column headers\n",
    "        columns = [col['Name'] for col in response['ColumnInfo']]\n",
    "        print(\" | \".join(columns))\n",
    "        print(\"-\" * 60)\n",
    "        \n",
    "        # Print rows\n",
    "        for row in response['Rows']:\n",
    "            values = []\n",
    "            for data in row['Data']:\n",
    "                if 'ScalarValue' in data:\n",
    "                    values.append(data['ScalarValue'])\n",
    "                else:\n",
    "                    values.append('NULL')\n",
    "            print(\" | \".join(values))\n",
    "        \n",
    "        print(\"\\n\" + \"=\"*60)\n",
    "        print(f\"Total records: {len(response['Rows'])}\")\n",
    "        \n",
    "except Exception as e:\n",
    "    print(f\"Error querying data: {e}\")"
   ]
  },
  {
   "cell_type": "markdown",
   "metadata": {},
   "source": [
    "## Step 4: Query with Aggregation"
   ]
  },
  {
   "cell_type": "code",
   "execution_count": null,
   "metadata": {},
   "outputs": [],
   "source": [
    "# Aggregate query - average CPU usage by device\n",
    "agg_query = f\"\"\"\n",
    "SELECT \n",
    "    device_id,\n",
    "    AVG(CAST(measure_value::double AS DOUBLE)) as avg_value,\n",
    "    COUNT(*) as record_count\n",
    "FROM \"{database_name}\".\"{table_name}\"\n",
    "WHERE measure_name = 'cpu_usage'\n",
    "  AND time > ago(1h)\n",
    "GROUP BY device_id\n",
    "ORDER BY avg_value DESC\n",
    "\"\"\"\n",
    "\n",
    "print(\"Aggregate Query:\")\n",
    "print(agg_query)\n",
    "print(\"\\n\" + \"=\"*60)"
   ]
  },
  {
   "cell_type": "code",
   "execution_count": null,
   "metadata": {},
   "outputs": [],
   "source": [
    "# Execute aggregate query\n",
    "try:\n",
    "    response = ts_query.query(QueryString=agg_query)\n",
    "    \n",
    "    print(\"AGGREGATION RESULTS:\")\n",
    "    print(\"=\"*60)\n",
    "    \n",
    "    if len(response['Rows']) == 0:\n",
    "        print(\"No CPU usage records found\")\n",
    "    else:\n",
    "        # Print headers\n",
    "        print(\"Device ID | Average CPU | Record Count\")\n",
    "        print(\"-\" * 60)\n",
    "        \n",
    "        # Print results\n",
    "        for row in response['Rows']:\n",
    "            device = row['Data'][0]['ScalarValue']\n",
    "            avg_cpu = float(row['Data'][1]['ScalarValue'])\n",
    "            count = row['Data'][2]['ScalarValue']\n",
    "            print(f\"{device:15} | {avg_cpu:11.2f} | {count}\")\n",
    "        \n",
    "        print(\"=\"*60)\n",
    "        \n",
    "except Exception as e:\n",
    "    print(f\"Error querying data: {e}\")"
   ]
  },
  {
   "cell_type": "markdown",
   "metadata": {},
   "source": [
    "## Test Complete\n",
    "\n",
    "If you see data above, Timestream integration is working correctly!"
   ]
  }
 ],
 "metadata": {
  "kernelspec": {
   "display_name": "Python 3",
   "language": "python",
   "name": "python3"
  },
  "language_info": {
   "name": "python",
   "version": "3.10.0"
  }
 },
 "nbformat": 4,
 "nbformat_minor": 4
}
