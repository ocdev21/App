{
 "cells": [
  {
   "cell_type": "markdown",
   "metadata": {},
   "source": [
    "# InfluxDB Simple Testing\n",
    "\n",
    "Quick and easy InfluxDB testing for AWS Timestream for InfluxDB.\n",
    "\n",
    "**What you need:**\n",
    "- InfluxDB Token (see `GET_INFLUXDB_TOKEN.md` for instructions)\n",
    "- Your InfluxDB endpoint URL\n",
    "- Organization name and bucket name\n",
    "\n",
    "**What this does:**\n",
    "- ✅ Test connection to InfluxDB\n",
    "- ✅ Write sample energy metrics\n",
    "- ✅ Write sample sensor data\n",
    "- ✅ Query and visualize data\n",
    "- ✅ Simple and focused (no AWS Bedrock or other services)"
   ]
  },
  {
   "cell_type": "markdown",
   "metadata": {},
   "source": [
    "## Step 1: Install Required Packages"
   ]
  },
  {
   "cell_type": "code",
   "execution_count": null,
   "metadata": {},
   "outputs": [],
   "source": [
    "# Install packages (run this once)\n",
    "!pip install -q influxdb-client pandas plotly"
   ]
  },
  {
   "cell_type": "markdown",
   "metadata": {},
   "source": [
    "## Step 2: Import Libraries"
   ]
  },
  {
   "cell_type": "code",
   "execution_count": null,
   "metadata": {},
   "outputs": [],
   "source": [
    "import pandas as pd\n",
    "from datetime import datetime, timedelta\n",
    "from influxdb_client import InfluxDBClient, Point, WritePrecision\n",
    "from influxdb_client.client.write_api import SYNCHRONOUS\n",
    "import plotly.graph_objects as go\n",
    "import plotly.express as px\n",
    "from IPython.display import display, HTML\n",
    "\n",
    "print(\"✓ Libraries imported successfully\")"
   ]
  },
  {
   "cell_type": "markdown",
   "metadata": {},
   "source": [
    "## Step 3: Configure Your InfluxDB Connection\n",
    "\n",
    "**⚠️ IMPORTANT: Enter your InfluxDB token below**\n",
    "\n",
    "See `GET_INFLUXDB_TOKEN.md` for instructions on how to get your token."
   ]
  },
  {
   "cell_type": "code",
   "execution_count": null,
   "metadata": {},
   "outputs": [],
   "source": [
    "# ============================================\n",
    "# CONFIGURATION - Edit these values\n",
    "# ============================================\n",
    "\n",
    "# Your InfluxDB token (paste it here)\n",
    "INFLUXDB_TOKEN = \"\"  # ⬅️ PASTE YOUR TOKEN HERE\n",
    "\n",
    "# Your InfluxDB endpoint\n",
    "INFLUXDB_URL = \"https://Lhk52q7uoe-lktzzbuyksah47.timestream-influxdb.us-east-1.on.aws\"\n",
    "\n",
    "# Organization and bucket\n",
    "INFLUXDB_ORG = \"superapp-org\"\n",
    "INFLUXDB_BUCKET = \"test-bucket\"  # Change this if using a different bucket\n",
    "\n",
    "# Database name (for reference)\n",
    "DATABASE_NAME = \"superAppDB\"\n",
    "\n",
    "# ============================================\n",
    "\n",
    "# Validation\n",
    "if not INFLUXDB_TOKEN:\n",
    "    print(\"❌ ERROR: Please set your INFLUXDB_TOKEN above!\")\n",
    "    print(\"   See GET_INFLUXDB_TOKEN.md for instructions\")\n",
    "else:\n",
    "    print(\"✓ Configuration set\")\n",
    "    print(f\"  URL: {INFLUXDB_URL}\")\n",
    "    print(f\"  Org: {INFLUXDB_ORG}\")\n",
    "    print(f\"  Bucket: {INFLUXDB_BUCKET}\")\n",
    "    print(f\"  Database: {DATABASE_NAME}\")\n",
    "    print(f\"  Token: {'*' * 20}... (hidden)\")"
   ]
  },
  {
   "cell_type": "markdown",
   "metadata": {},
   "source": [
    "## Step 4: Connect to InfluxDB"
   ]
  },
  {
   "cell_type": "code",
   "execution_count": null,
   "metadata": {},
   "outputs": [],
   "source": [
    "# Create InfluxDB client\n",
    "try:\n",
    "    client = InfluxDBClient(\n",
    "        url=INFLUXDB_URL,\n",
    "        token=INFLUXDB_TOKEN,\n",
    "        org=INFLUXDB_ORG,\n",
    "        timeout=30_000  # 30 seconds\n",
    "    )\n",
    "    \n",
    "    # Test connection\n",
    "    health = client.health()\n",
    "    \n",
    "    print(\"✅ Connected to InfluxDB!\")\n",
    "    print(f\"   Status: {health.status}\")\n",
    "    print(f\"   Message: {health.message if hasattr(health, 'message') else 'OK'}\")\n",
    "    \n",
    "    # Create write and query APIs\n",
    "    write_api = client.write_api(write_options=SYNCHRONOUS)\n",
    "    query_api = client.query_api()\n",
    "    \n",
    "    print(\"✓ Write API ready\")\n",
    "    print(\"✓ Query API ready\")\n",
    "    \n",
    "except Exception as e:\n",
    "    print(f\"❌ Connection failed: {e}\")\n",
    "    print(\"\\nTroubleshooting:\")\n",
    "    print(\"1. Check your token is correct\")\n",
    "    print(\"2. Verify the endpoint URL is accessible\")\n",
    "    print(\"3. Ensure your organization name is correct\")"
   ]
  },
  {
   "cell_type": "markdown",
   "metadata": {},
   "source": [
    "## Step 5: Write Sample Energy Data\n",
    "\n",
    "Let's write some sample energy metrics to test the connection."
   ]
  },
  {
   "cell_type": "code",
   "execution_count": null,
   "metadata": {},
   "outputs": [],
   "source": [
    "import random\n",
    "\n",
    "def write_energy_metrics(num_points=10):\n",
    "    \"\"\"\n",
    "    Write sample energy metrics to InfluxDB\n",
    "    \"\"\"\n",
    "    points = []\n",
    "    base_time = datetime.utcnow() - timedelta(hours=1)\n",
    "    \n",
    "    for i in range(num_points):\n",
    "        timestamp = base_time + timedelta(minutes=i * 6)\n",
    "        \n",
    "        point = (\n",
    "            Point(\"energy_metrics\")\n",
    "            .tag(\"location\", \"datacenter-1\")\n",
    "            .tag(\"source\", \"sagemaker-test\")\n",
    "            .field(\"power_kw\", round(random.uniform(50, 150), 2))\n",
    "            .field(\"voltage\", round(random.uniform(220, 240), 2))\n",
    "            .field(\"current\", round(random.uniform(10, 30), 2))\n",
    "            .field(\"temperature_c\", round(random.uniform(20, 35), 2))\n",
    "            .time(timestamp, WritePrecision.NS)\n",
    "        )\n",
    "        points.append(point)\n",
    "    \n",
    "    try:\n",
    "        write_api.write(bucket=INFLUXDB_BUCKET, org=INFLUXDB_ORG, record=points)\n",
    "        print(f\"✅ Wrote {num_points} energy metric points\")\n",
    "        print(f\"   Measurement: energy_metrics\")\n",
    "        print(f\"   Fields: power_kw, voltage, current, temperature_c\")\n",
    "        print(f\"   Time range: {base_time.strftime('%H:%M')} to {timestamp.strftime('%H:%M')}\")\n",
    "        return True\n",
    "    except Exception as e:\n",
    "        print(f\"❌ Write failed: {e}\")\n",
    "        return False\n",
    "\n",
    "# Write 20 sample points\n",
    "write_energy_metrics(20)"
   ]
  },
  {
   "cell_type": "markdown",
   "metadata": {},
   "source": [
    "## Step 6: Write Sample Sensor Data"
   ]
  },
  {
   "cell_type": "code",
   "execution_count": null,
   "metadata": {},
   "outputs": [],
   "source": [
    "def write_sensor_data(num_points=10):\n",
    "    \"\"\"\n",
    "    Write sample sensor data to InfluxDB\n",
    "    \"\"\"\n",
    "    points = []\n",
    "    base_time = datetime.utcnow() - timedelta(hours=1)\n",
    "    \n",
    "    for i in range(num_points):\n",
    "        timestamp = base_time + timedelta(minutes=i * 6)\n",
    "        sensor_id = f\"sensor-{random.randint(1, 3)}\"\n",
    "        \n",
    "        point = (\n",
    "            Point(\"sensor_data\")\n",
    "            .tag(\"sensor_id\", sensor_id)\n",
    "            .tag(\"source\", \"sagemaker-test\")\n",
    "            .field(\"temperature\", round(random.uniform(18, 28), 2))\n",
    "            .field(\"humidity\", round(random.uniform(35, 65), 2))\n",
    "            .field(\"pressure\", round(random.uniform(990, 1015), 2))\n",
    "            .time(timestamp, WritePrecision.NS)\n",
    "        )\n",
    "        points.append(point)\n",
    "    \n",
    "    try:\n",
    "        write_api.write(bucket=INFLUXDB_BUCKET, org=INFLUXDB_ORG, record=points)\n",
    "        print(f\"✅ Wrote {num_points} sensor data points\")\n",
    "        print(f\"   Measurement: sensor_data\")\n",
    "        print(f\"   Fields: temperature, humidity, pressure\")\n",
    "        print(f\"   Sensors: sensor-1, sensor-2, sensor-3\")\n",
    "        return True\n",
    "    except Exception as e:\n",
    "        print(f\"❌ Write failed: {e}\")\n",
    "        return False\n",
    "\n",
    "# Write 20 sample points\n",
    "write_sensor_data(20)"
   ]
  },
  {
   "cell_type": "markdown",
   "metadata": {},
   "source": [
    "## Step 7: Query Energy Metrics"
   ]
  },
  {
   "cell_type": "code",
   "execution_count": null,
   "metadata": {},
   "outputs": [],
   "source": [
    "def query_energy_data(hours=2):\n",
    "    \"\"\"\n",
    "    Query energy metrics from InfluxDB\n",
    "    \"\"\"\n",
    "    flux_query = f'''\n",
    "    from(bucket: \"{INFLUXDB_BUCKET}\")\n",
    "      |> range(start: -{hours}h)\n",
    "      |> filter(fn: (r) => r._measurement == \"energy_metrics\")\n",
    "      |> filter(fn: (r) => r._field == \"power_kw\" or r._field == \"temperature_c\")\n",
    "      |> pivot(rowKey:[\"_time\"], columnKey: [\"_field\"], valueColumn: \"_value\")\n",
    "    '''\n",
    "    \n",
    "    try:\n",
    "        tables = query_api.query(flux_query, org=INFLUXDB_ORG)\n",
    "        \n",
    "        # Convert to pandas DataFrame\n",
    "        records = []\n",
    "        for table in tables:\n",
    "            for record in table.records:\n",
    "                records.append({\n",
    "                    'time': record.get_time(),\n",
    "                    'location': record.values.get('location'),\n",
    "                    'power_kw': record.values.get('power_kw'),\n",
    "                    'temperature_c': record.values.get('temperature_c')\n",
    "                })\n",
    "        \n",
    "        df = pd.DataFrame(records)\n",
    "        print(f\"✅ Retrieved {len(df)} energy records\")\n",
    "        return df\n",
    "    except Exception as e:\n",
    "        print(f\"❌ Query failed: {e}\")\n",
    "        return pd.DataFrame()\n",
    "\n",
    "# Query data\n",
    "energy_df = query_energy_data(hours=2)\n",
    "\n",
    "if not energy_df.empty:\n",
    "    display(energy_df.head(10))\n",
    "    print(f\"\\nData summary:\")\n",
    "    print(f\"  Total records: {len(energy_df)}\")\n",
    "    print(f\"  Average power: {energy_df['power_kw'].mean():.2f} kW\")\n",
    "    print(f\"  Max power: {energy_df['power_kw'].max():.2f} kW\")\n",
    "    print(f\"  Min power: {energy_df['power_kw'].min():.2f} kW\")"
   ]
  },
  {
   "cell_type": "markdown",
   "metadata": {},
   "source": [
    "## Step 8: Visualize Energy Data"
   ]
  },
  {
   "cell_type": "code",
   "execution_count": null,
   "metadata": {},
   "outputs": [],
   "source": [
    "if not energy_df.empty:\n",
    "    # Create power consumption chart\n",
    "    fig = go.Figure()\n",
    "    \n",
    "    fig.add_trace(go.Scatter(\n",
    "        x=energy_df['time'],\n",
    "        y=energy_df['power_kw'],\n",
    "        mode='lines+markers',\n",
    "        name='Power Consumption',\n",
    "        line=dict(color='#3b82f6', width=2),\n",
    "        marker=dict(size=6)\n",
    "    ))\n",
    "    \n",
    "    fig.update_layout(\n",
    "        title='Energy Consumption Over Time',\n",
    "        xaxis_title='Time',\n",
    "        yaxis_title='Power (kW)',\n",
    "        hovermode='x unified',\n",
    "        template='plotly_white',\n",
    "        height=500,\n",
    "        showlegend=True\n",
    "    )\n",
    "    \n",
    "    fig.show()\n",
    "else:\n",
    "    print(\"No data to visualize. Make sure you ran the write operations above.\")"
   ]
  },
  {
   "cell_type": "markdown",
   "metadata": {},
   "source": [
    "## Step 9: Query Sensor Data"
   ]
  },
  {
   "cell_type": "code",
   "execution_count": null,
   "metadata": {},
   "outputs": [],
   "source": [
    "def query_sensor_data(hours=2):\n",
    "    \"\"\"\n",
    "    Query sensor data from InfluxDB\n",
    "    \"\"\"\n",
    "    flux_query = f'''\n",
    "    from(bucket: \"{INFLUXDB_BUCKET}\")\n",
    "      |> range(start: -{hours}h)\n",
    "      |> filter(fn: (r) => r._measurement == \"sensor_data\")\n",
    "      |> pivot(rowKey:[\"_time\"], columnKey: [\"_field\"], valueColumn: \"_value\")\n",
    "    '''\n",
    "    \n",
    "    try:\n",
    "        tables = query_api.query(flux_query, org=INFLUXDB_ORG)\n",
    "        \n",
    "        records = []\n",
    "        for table in tables:\n",
    "            for record in table.records:\n",
    "                records.append({\n",
    "                    'time': record.get_time(),\n",
    "                    'sensor_id': record.values.get('sensor_id'),\n",
    "                    'temperature': record.values.get('temperature'),\n",
    "                    'humidity': record.values.get('humidity'),\n",
    "                    'pressure': record.values.get('pressure')\n",
    "                })\n",
    "        \n",
    "        df = pd.DataFrame(records)\n",
    "        print(f\"✅ Retrieved {len(df)} sensor records\")\n",
    "        return df\n",
    "    except Exception as e:\n",
    "        print(f\"❌ Query failed: {e}\")\n",
    "        return pd.DataFrame()\n",
    "\n",
    "# Query sensor data\n",
    "sensor_df = query_sensor_data(hours=2)\n",
    "\n",
    "if not sensor_df.empty:\n",
    "    display(sensor_df.head(10))\n",
    "    print(f\"\\nData summary:\")\n",
    "    print(f\"  Total records: {len(sensor_df)}\")\n",
    "    print(f\"  Average temp: {sensor_df['temperature'].mean():.2f}°C\")\n",
    "    print(f\"  Average humidity: {sensor_df['humidity'].mean():.1f}%\")"
   ]
  },
  {
   "cell_type": "markdown",
   "metadata": {},
   "source": [
    "## Step 10: Visualize Sensor Data"
   ]
  },
  {
   "cell_type": "code",
   "execution_count": null,
   "metadata": {},
   "outputs": [],
   "source": [
    "if not sensor_df.empty:\n",
    "    # Temperature by sensor\n",
    "    fig = px.line(\n",
    "        sensor_df,\n",
    "        x='time',\n",
    "        y='temperature',\n",
    "        color='sensor_id',\n",
    "        title='Sensor Temperature Readings',\n",
    "        labels={'temperature': 'Temperature (°C)', 'time': 'Time', 'sensor_id': 'Sensor'},\n",
    "        template='plotly_white',\n",
    "        markers=True\n",
    "    )\n",
    "    \n",
    "    fig.update_layout(height=500)\n",
    "    fig.show()\n",
    "    \n",
    "    # Humidity chart\n",
    "    fig2 = px.line(\n",
    "        sensor_df,\n",
    "        x='time',\n",
    "        y='humidity',\n",
    "        color='sensor_id',\n",
    "        title='Sensor Humidity Readings',\n",
    "        labels={'humidity': 'Humidity (%)', 'time': 'Time', 'sensor_id': 'Sensor'},\n",
    "        template='plotly_white',\n",
    "        markers=True\n",
    "    )\n",
    "    \n",
    "    fig2.update_layout(height=500)\n",
    "    fig2.show()\n",
    "else:\n",
    "    print(\"No sensor data to visualize.\")"
   ]
  },
  {
   "cell_type": "markdown",
   "metadata": {},
   "source": [
    "## Step 11: Close Connection"
   ]
  },
  {
   "cell_type": "code",
   "execution_count": null,
   "metadata": {},
   "outputs": [],
   "source": [
    "# Close the client when done\n",
    "client.close()\n",
    "print(\"✓ InfluxDB connection closed\")"
   ]
  },
  {
   "cell_type": "markdown",
   "metadata": {},
   "source": [
    "## Summary\n",
    "\n",
    "### What You Tested:\n",
    "- ✅ Connected to AWS Timestream for InfluxDB\n",
    "- ✅ Wrote energy metrics (power, voltage, current, temperature)\n",
    "- ✅ Wrote sensor data (temperature, humidity, pressure)\n",
    "- ✅ Queried data using Flux query language\n",
    "- ✅ Visualized time-series data with Plotly\n",
    "\n",
    "### Database Info:\n",
    "- **Database:** superAppDB\n",
    "- **Endpoint:** https://Lhk52q7uoe-lktzzbuyksah47.timestream-influxdb.us-east-1.on.aws\n",
    "- **Organization:** superapp-org\n",
    "- **Bucket:** test-bucket\n",
    "\n",
    "### Next Steps:\n",
    "1. Change the bucket name to match your actual buckets (e.g., `energy_metrics`, `sensor_data`)\n",
    "2. Write your own custom data\n",
    "3. Create more complex Flux queries\n",
    "4. Build dashboards with your data\n",
    "5. Integrate with your production applications (esapp, tsapp)\n",
    "\n",
    "---\n",
    "\n",
    "**Need help?** See `GET_INFLUXDB_TOKEN.md` for token setup or the main README for more information."
   ]
  }
 ],
 "metadata": {
  "kernelspec": {
   "display_name": "Python 3",
   "language": "python",
   "name": "python3"
  },
  "language_info": {
   "codemirror_mode": {
    "name": "ipython",
    "version": 3
   },
   "file_extension": ".py",
   "mimetype": "text/x-python",
   "name": "python",
   "nbconvert_exporter": "python",
   "pygments_lexer": "ipython3",
   "version": "3.11.0"
  }
 },
 "nbformat": 4,
 "nbformat_minor": 4
}
