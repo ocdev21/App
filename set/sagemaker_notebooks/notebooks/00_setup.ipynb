{
 "cells": [
  {
   "cell_type": "markdown",
   "metadata": {},
   "source": [
    "# AWS Integration Dashboard - Setup & Validation\n",
    "\n",
    "This notebook validates your SageMaker environment and sets up the required AWS resources.\n",
    "\n",
    "## What This Notebook Does:\n",
    "1. Checks Python and package versions\n",
    "2. Validates AWS credentials (via SageMaker execution role)\n",
    "3. Tests connectivity to AWS Bedrock\n",
    "4. Tests connectivity to AWS Timestream\n",
    "5. Creates Timestream database and UEReports table\n",
    "6. Displays configuration summary\n",
    "\n",
    "**Run this notebook first before using the other notebooks!**"
   ]
  },
  {
   "cell_type": "markdown",
   "metadata": {},
   "source": [
    "## Step 1: Import Required Modules"
   ]
  },
  {
   "cell_type": "code",
   "execution_count": null,
   "metadata": {},
   "outputs": [],
   "source": [
    "import sys\n",
    "import os\n",
    "import boto3\n",
    "from datetime import datetime\n",
    "\n",
    "# Add modules directory to path\n",
    "sys.path.insert(0, os.path.abspath('../modules'))\n",
    "\n",
    "from bedrock_streaming import BedrockClient\n",
    "from timestream_client import TimestreamClient\n",
    "\n",
    "print(\"✅ All modules imported successfully\")\n",
    "print(f\"Python version: {sys.version}\")\n",
    "print(f\"boto3 version: {boto3.__version__}\")"
   ]
  },
  {
   "cell_type": "markdown",
   "metadata": {},
   "source": [
    "## Step 2: Configure Environment Variables"
   ]
  },
  {
   "cell_type": "code",
   "execution_count": null,
   "metadata": {},
   "outputs": [],
   "source": [
    "# Configuration\n",
    "AWS_REGION = os.getenv('AWS_REGION', 'us-east-1')\n",
    "TIMESTREAM_DATABASE_NAME = os.getenv('TIMESTREAM_DATABASE_NAME', 'SuperAppDB')\n",
    "TIMESTREAM_TABLE_NAME = 'UEReports'\n",
    "AWS_ACCOUNT_ID = '012351853258'\n",
    "\n",
    "print(\"Configuration:\")\n",
    "print(f\"  AWS Region: {AWS_REGION}\")\n",
    "print(f\"  Timestream Database: {TIMESTREAM_DATABASE_NAME}\")\n",
    "print(f\"  Timestream Table: {TIMESTREAM_TABLE_NAME}\")\n",
    "print(f\"  AWS Account: {AWS_ACCOUNT_ID}\")"
   ]
  },
  {
   "cell_type": "markdown",
   "metadata": {},
   "source": [
    "## Step 3: Check AWS Credentials\n",
    "\n",
    "SageMaker uses an execution role, so you don't need explicit access keys."
   ]
  },
  {
   "cell_type": "code",
   "execution_count": null,
   "metadata": {},
   "outputs": [],
   "source": [
    "# Get current AWS identity\n",
    "sts = boto3.client('sts', region_name=AWS_REGION)\n",
    "\n",
    "try:\n",
    "    identity = sts.get_caller_identity()\n",
    "    print(\"✅ AWS Credentials Valid\")\n",
    "    print(f\"  Account: {identity['Account']}\")\n",
    "    print(f\"  ARN: {identity['Arn']}\")\n",
    "    print(f\"  User ID: {identity['UserId']}\")\n",
    "except Exception as e:\n",
    "    print(f\"❌ AWS Credentials Error: {str(e)}\")\n",
    "    print(\"\\nPlease ensure your SageMaker notebook instance has an IAM role attached.\")"
   ]
  },
  {
   "cell_type": "markdown",
   "metadata": {},
   "source": [
    "## Step 4: Test Bedrock Connectivity"
   ]
  },
  {
   "cell_type": "code",
   "execution_count": null,
   "metadata": {},
   "outputs": [],
   "source": [
    "print(\"Testing Bedrock connectivity...\\n\")\n",
    "\n",
    "bedrock = BedrockClient(region_name=AWS_REGION)\n",
    "result = bedrock.test_connection()\n",
    "\n",
    "if result['status'] == 'success':\n",
    "    print(\"✅ Bedrock Connection Successful\")\n",
    "    print(f\"  Region: {result['region']}\")\n",
    "    print(f\"  Model: {result['model_id']}\")\n",
    "    print(f\"  Test Response: {result['response']}\")\n",
    "else:\n",
    "    print(\"❌ Bedrock Connection Failed\")\n",
    "    print(f\"  Error: {result['message']}\")\n",
    "    print(\"\\nPlease ensure your SageMaker execution role has 'bedrock:InvokeModel' permission.\")"
   ]
  },
  {
   "cell_type": "markdown",
   "metadata": {},
   "source": [
    "## Step 5: Setup Timestream Database & Table"
   ]
  },
  {
   "cell_type": "code",
   "execution_count": null,
   "metadata": {},
   "outputs": [],
   "source": [
    "print(\"Setting up Timestream database...\\n\")\n",
    "\n",
    "timestream = TimestreamClient(\n",
    "    database_name=TIMESTREAM_DATABASE_NAME,\n",
    "    table_name=TIMESTREAM_TABLE_NAME,\n",
    "    region_name=AWS_REGION\n",
    ")\n",
    "\n",
    "try:\n",
    "    setup_result = timestream.setup_database()\n",
    "    print(\"✅ Timestream Setup Complete\")\n",
    "    print(f\"  Database: {setup_result['database']['message']}\")\n",
    "    print(f\"  Table: {setup_result['table']['message']}\")\n",
    "except Exception as e:\n",
    "    print(f\"❌ Timestream Setup Failed: {str(e)}\")\n",
    "    print(\"\\nPlease ensure your SageMaker execution role has Timestream permissions.\")"
   ]
  },
  {
   "cell_type": "markdown",
   "metadata": {},
   "source": [
    "## Step 6: Test Timestream Query"
   ]
  },
  {
   "cell_type": "code",
   "execution_count": null,
   "metadata": {},
   "outputs": [],
   "source": [
    "print(\"Testing Timestream query...\\n\")\n",
    "\n",
    "try:\n",
    "    df = timestream.query()\n",
    "    print(f\"✅ Timestream Query Successful\")\n",
    "    print(f\"  Records found: {len(df)}\")\n",
    "    \n",
    "    if len(df) > 0:\n",
    "        print(\"\\nSample data:\")\n",
    "        display(df.head())\n",
    "    else:\n",
    "        print(\"\\n⚠️  Table is empty. Use write_records() to add sample data.\")\n",
    "        print(\"   Or proceed to the Claude chat notebook!\")\n",
    "except Exception as e:\n",
    "    print(f\"❌ Timestream Query Failed: {str(e)}\")"
   ]
  },
  {
   "cell_type": "markdown",
   "metadata": {},
   "source": [
    "## Step 7: Configuration Summary"
   ]
  },
  {
   "cell_type": "code",
   "execution_count": null,
   "metadata": {},
   "outputs": [],
   "source": [
    "from IPython.display import Markdown\n",
    "\n",
    "summary = f\"\"\"\n",
    "## ✅ Setup Complete!\n",
    "\n",
    "Your SageMaker environment is ready for the AWS Integration Dashboard.\n",
    "\n",
    "### Configuration:\n",
    "- **AWS Region:** {AWS_REGION}\n",
    "- **Timestream Database:** {TIMESTREAM_DATABASE_NAME}\n",
    "- **Timestream Table:** {TIMESTREAM_TABLE_NAME}\n",
    "- **Claude Model:** anthropic.claude-3-sonnet-20240229-v1:0\n",
    "\n",
    "### Next Steps:\n",
    "1. **Open `01_claude_chat.ipynb`** to try the interactive Claude 3 chat\n",
    "2. **Open `02_timestream_dashboard.ipynb`** to explore Timestream data\n",
    "\n",
    "### Timestamp:\n",
    "{datetime.now().strftime('%Y-%m-%d %H:%M:%S')}\n",
    "\"\"\"\n",
    "\n",
    "display(Markdown(summary))"
   ]
  },
  {
   "cell_type": "markdown",
   "metadata": {},
   "source": [
    "## Optional: Add Sample Data to Timestream\n",
    "\n",
    "Uncomment and run this cell to add sample data to the UEReports table:"
   ]
  },
  {
   "cell_type": "code",
   "execution_count": null,
   "metadata": {},
   "outputs": [],
   "source": [
    "# # Uncomment to add sample data\n",
    "# sample_records = [\n",
    "#     {\n",
    "#         'Dimensions': [\n",
    "#             {'Name': 'device_id', 'Value': 'device-001'},\n",
    "#             {'Name': 'location', 'Value': 'datacenter-1'}\n",
    "#         ],\n",
    "#         'MeasureName': 'cpu_usage',\n",
    "#         'MeasureValue': '75.5',\n",
    "#         'MeasureValueType': 'DOUBLE'\n",
    "#     },\n",
    "#     {\n",
    "#         'Dimensions': [\n",
    "#             {'Name': 'device_id', 'Value': 'device-002'},\n",
    "#             {'Name': 'location', 'Value': 'datacenter-1'}\n",
    "#         ],\n",
    "#         'MeasureName': 'cpu_usage',\n",
    "#         'MeasureValue': '82.3',\n",
    "#         'MeasureValueType': 'DOUBLE'\n",
    "#     }\n",
    "# ]\n",
    "\n",
    "# result = timestream.write_records(sample_records)\n",
    "# print(result['message'])"
   ]
  }
 ],
 "metadata": {
  "kernelspec": {
   "display_name": "Python 3",
   "language": "python",
   "name": "python3"
  },
  "language_info": {
   "codemirror_mode": {
    "name": "ipython",
    "version": 3
   },
   "file_extension": ".py",
   "mimetype": "text/x-python",
   "name": "python",
   "nbconvert_exporter": "python",
   "pygments_lexer": "ipython3",
   "version": "3.10.0"
  }
 },
 "nbformat": 4,
 "nbformat_minor": 4
}
